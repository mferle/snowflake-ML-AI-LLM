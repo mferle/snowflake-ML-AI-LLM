{
 "metadata": {
  "kernelspec": {
   "display_name": "Streamlit Notebook",
   "name": "streamlit"
  }
 },
 "nbformat_minor": 5,
 "nbformat": 4,
 "cells": [
  {
   "cell_type": "markdown",
   "id": "3775908f-ca36-4846-8f38-5adca39217f2",
   "metadata": {
    "name": "cell1",
    "collapsed": false,
    "resultHeight": 186
   },
   "source": "# Optimizing Query Performance in Snowflake using AI Tools\n\nSteps to optimizing query performance:\n1. Identify queries that run the longest\n2. Optimize the longest running queries"
  },
  {
   "cell_type": "markdown",
   "id": "8c1411b4-d119-4db0-92d2-98cdb6334c3a",
   "metadata": {
    "name": "cell2",
    "collapsed": false,
    "resultHeight": 276
   },
   "source": "## Taking advantage of Snowflake Cortex Large Language Model (LLM) Functions\n\nhttps://docs.snowflake.com/en/user-guide/snowflake-cortex/llm-functions\n\nAvailable functions:\n- COMPLETE, CLASSIFY_TEXT, EXTRACT_ANSWER, PARSE_DOCUMENT, SENTIMENT, SUMMARIZE, TRANSLATE, EMBED_TEXT_768, etc.\n\n### The COMPLETE function supports many models (different models have different costs):\n\n- snowflake-arctic, claude-3-5-sonnet, gemma-7b, jamba-1.5-mini, jamba-1.5-large, llama3-8b, llama3.2-3b, mistral-large, mixtral-8x7b, reka-core, reka-flash, etc."
  },
  {
   "cell_type": "markdown",
   "id": "83e644be-e70e-4d6f-979d-e1959b5ea005",
   "metadata": {
    "name": "cell3",
    "collapsed": false,
    "resultHeight": 185
   },
   "source": "## Step 1: Identify queries that run the longest\n\nLook into QUERY_HISTORY.\n\nAsk the LLM to write the query and compare the output from different models.\n\n**Warning:** always check the provided code for common sense, feasibility, and syntax errors"
  },
  {
   "cell_type": "code",
   "id": "e793a9d1-12e0-48d1-bd42-f7f5f1fbd79f",
   "metadata": {
    "language": "sql",
    "name": "cell4",
    "collapsed": false,
    "resultHeight": 111
   },
   "outputs": [],
   "source": "SET PROMPT = 'Please write a Snowflake query that identifies the 5 longest running queries within the last 7 days';\n\nSELECT SNOWFLAKE.CORTEX.COMPLETE('snowflake-arctic', $PROMPT);",
   "execution_count": null
  },
  {
   "cell_type": "markdown",
   "id": "e3e6b9eb-70e3-4584-8cc1-bacfc946a9f6",
   "metadata": {
    "name": "cell5",
    "collapsed": false,
    "resultHeight": 245
   },
   "source": "### Output from snowflake-arctic\n```sql\nSELECT query_text, start_time, end_time, execution_time  \nFROM table(information_schema.query_history_by_session(session_id => '<your_session_id>',                                                         start_time => dateadd(day, -7, current_timestamp())))  \nORDER BY execution_time DESC  \nLIMIT 5; \n```  \nPlease replace `<your_session_id>` with the desired session ID."
  },
  {
   "cell_type": "code",
   "id": "3662465e-8ab5-4ff1-91f1-d6535cce8361",
   "metadata": {
    "language": "sql",
    "name": "cell6",
    "collapsed": false,
    "resultHeight": 111
   },
   "outputs": [],
   "source": "SELECT SNOWFLAKE.CORTEX.COMPLETE('llama3.2-1b', $PROMPT);",
   "execution_count": null
  },
  {
   "cell_type": "markdown",
   "id": "37a33dfc-656e-4346-a73e-fa4a9d9db66f",
   "metadata": {
    "name": "cell7",
    "collapsed": false,
    "resultHeight": 887
   },
   "source": "### Output from llama3.2-1b\n```sql\nWITH    -- Get the current date and time   \ncurrent_date AS (SELECT MAX(CURRENT_TIMESTAMP) AS timestamp FROM your_table),      \n-- Get the queries that ran within the last 7 days   \nlast_7_days AS (\nSELECT query_id, query_name, query_start_time, query_end_time,       \n  EXTRACT(DAY FROM query_start_time) AS query_start_day,       \n  EXTRACT(DAY FROM query_end_time) AS query_end_day,       \n  EXTRACT(HOUR FROM query_start_time) AS query_start_hour,       \n  EXTRACT(HOUR FROM query_end_time) AS query_end_hour,       \n  EXTRACT(MINUTE FROM query_start_time) AS query_start_minute,       \n  EXTRACT(MINUTE FROM query_end_time) AS query_end_minute,       \n  EXTRACT(SECOND FROM query_start_time) AS query_start_second,       \n  EXTRACT(SECOND FROM query_end_time) AS query_end_second     \n  FROM your_table     \n  WHERE EXTRACT(DAY FROM query_start_time) BETWEEN CURRENT_DATE - INTERVAL '7 days' \n  AND CURRENT_DATE     \n  GROUP BY query_id, query_name, query_start_time, query_end_time),      \n-- Get the 5 longest running queries\nlongest_running_queries AS (     \n  SELECT query_id, query_name, query_start_time, query_end_time, query_start_day, query_end_day, query_start_hour, query_end_hour, \n  query_start_minute, query_end_minute, query_start_second, query_end_second,       \nROW_NUMBER() OVER (PARTITION BY query_id ORDER BY query_start_time DESC) AS row_num     \nFROM last_7_days     \nWHERE row_num = 1)    \n-- Select the 5 longest running queries \nSELECT query_id, query_name, query_start_time, query_end_time, query_start_day, query_end_day, query_start_hour, query_end_hour,\n  query_start_minute, query_end_minute, query_start_second, query_end_second \nFROM longest_running_queries \nWHERE row_num = 1 \nORDER BY query_start_time DESC \nLIMIT 5; \n```"
  },
  {
   "cell_type": "code",
   "id": "89670e3e-4e30-48f2-a7cb-1ee5fdee41a9",
   "metadata": {
    "language": "sql",
    "name": "cell8",
    "collapsed": false,
    "resultHeight": 111
   },
   "outputs": [],
   "source": "SELECT SNOWFLAKE.CORTEX.COMPLETE('reka-flash', $PROMPT);",
   "execution_count": null
  },
  {
   "cell_type": "markdown",
   "id": "5dfdced1-39a7-4788-ae85-8d955cb478d4",
   "metadata": {
    "name": "cell9",
    "collapsed": false,
    "resultHeight": 324
   },
   "source": "### Output from reka-flash\n```sql\nWITH RecentQueries AS (\n  SELECT QUERY_ID, START_TIME, END_TIME, ELAPSED_TIME_MS / 1000.0 AS ELAPSED_SECONDS   \n  FROM SNOWFLAKE_AUDIT_LOG   \n  WHERE START_TIME >= DATE_SUB(CURRENT_DATE, 7) \n)  \nSELECT QUERY_ID,   ELAPSED_SECONDS,   START_TIME \nFROM RecentQueries \nORDER BY ELAPSED_SECONDS DESC \nLIMIT 5; \n```"
  },
  {
   "cell_type": "code",
   "id": "f6487108-2ff7-4e27-9895-ea75536662ad",
   "metadata": {
    "language": "sql",
    "name": "cell10",
    "collapsed": false,
    "resultHeight": 111
   },
   "outputs": [],
   "source": "SELECT SNOWFLAKE.CORTEX.COMPLETE('claude-3-5-sonnet', $PROMPT);",
   "execution_count": null
  },
  {
   "cell_type": "markdown",
   "id": "10984ee9-e015-4399-b691-4a05b23ddbe7",
   "metadata": {
    "name": "cell11",
    "collapsed": false,
    "resultHeight": 593
   },
   "source": "### Output from claude-3-5-sonnet\nOffers two versions\n```sql\nSELECT QUERY_ID, QUERY_TEXT, DATABASE_NAME, SCHEMA_NAME, USER_NAME, ROLE_NAME, WAREHOUSE_NAME, START_TIME, END_TIME, \n  TOTAL_ELAPSED_TIME/1000 as EXECUTION_TIME_SECONDS, EXECUTION_STATUS \nFROM SNOWFLAKE.ACCOUNT_USAGE.QUERY_HISTORY \nWHERE START_TIME >= DATEADD(days, -7, CURRENT_TIMESTAMP())     \nAND EXECUTION_STATUS = 'SUCCESS' \nORDER BY TOTAL_ELAPSED_TIME DESC \nLIMIT 5; \n``` \n```sql \nSELECT QUERY_ID, LEFT(QUERY_TEXT, 100) || '...' as TRUNCATED_QUERY_TEXT, DATABASE_NAME, SCHEMA_NAME, USER_NAME, WAREHOUSE_NAME, \n  START_TIME, END_TIME, ROUND(TOTAL_ELAPSED_TIME/1000/60, 2) as EXECUTION_TIME_MINUTES, \n  ROUND(BYTES_SCANNED/1024/1024/1024, 2) as GB_SCANNED, ROUND(BYTES_WRITTEN/1024/1024/1024, 2) as GB_WRITTEN, EXECUTION_STATUS \nFROM SNOWFLAKE.ACCOUNT_USAGE.QUERY_HISTORY \nWHERE START_TIME >= DATEADD(days, -7, CURRENT_TIMESTAMP())     \nAND EXECUTION_STATUS = 'SUCCESS'     \nAND TOTAL_ELAPSED_TIME > 0 \nORDER BY TOTAL_ELAPSED_TIME DESC \nLIMIT 5; \n"
  },
  {
   "cell_type": "markdown",
   "id": "49fb1ef6-85f1-44eb-a704-167e72be2bd9",
   "metadata": {
    "name": "cell12",
    "collapsed": false,
    "resultHeight": 102
   },
   "source": "## Execute the query to identify the longest running queries\n\nChoose and modify a query provided by the LLM models"
  },
  {
   "cell_type": "code",
   "id": "c5ac2aec-f6a9-422d-87c9-0729296feff1",
   "metadata": {
    "language": "sql",
    "name": "cell13",
    "collapsed": false,
    "resultHeight": 251
   },
   "outputs": [],
   "source": "SELECT query_id, query_text, start_time, end_time, total_elapsed_time\nFROM table(information_schema.query_history())\nWHERE start_time >= CURRENT_DATE - INTERVAL '7 days'\n  AND end_time IS NOT NULL\nORDER BY total_elapsed_time DESC\nLIMIT 5;",
   "execution_count": null
  },
  {
   "cell_type": "markdown",
   "id": "8bfb148a-4ee6-48c3-892f-7458ac45dd28",
   "metadata": {
    "name": "cell14",
    "collapsed": false,
    "resultHeight": 185
   },
   "source": "## Rewrite a query to optimize performance\nAsk the LLM to rewrite the query and compare the output from different models.\n\nThen execute the original query and the optimized query and compare performance.\n\n**Remember:** when testing query performance, ensure the query doesn't read the result from the cahche by setting the USE_CACHED_RESULT parameter to False"
  },
  {
   "cell_type": "code",
   "id": "baf427c2-9d72-4164-88b3-153b80a95d8d",
   "metadata": {
    "language": "sql",
    "name": "cell15",
    "collapsed": false,
    "resultHeight": 111
   },
   "outputs": [],
   "source": "-- to test performance, ensure the query doesn't read the result from the cache\nALTER SESSION SET USE_CACHED_RESULT = FALSE;",
   "execution_count": null
  },
  {
   "cell_type": "code",
   "id": "2e239297-e402-4fcb-b333-06ce5e4e0b84",
   "metadata": {
    "language": "sql",
    "name": "cell16",
    "collapsed": false,
    "resultHeight": 111
   },
   "outputs": [],
   "source": "-- first example, rewrite one of the queries that select the longest running queries\nSELECT SNOWFLAKE.CORTEX.COMPLETE('snowflake-arctic', \n  'Please rewrite the following Snowflake query as a single query without nesting the CTE: \n\nWITH query_stats AS (\n  SELECT query_id, start_time, end_time, total_elapsed_time / 1000.0 AS total_elapsed_seconds\n  FROM table(information_schema.query_history())\n  WHERE start_time >= CURRENT_DATE - INTERVAL ''30 days''\n)\nSELECT query_id, total_elapsed_seconds AS query_duration_seconds\nFROM query_stats\nORDER BY total_elapsed_seconds DESC\nLIMIT 5\n');",
   "execution_count": null
  },
  {
   "cell_type": "code",
   "id": "273c63bd-e41a-4e44-9e17-fe21a2304893",
   "metadata": {
    "language": "sql",
    "name": "cell17",
    "collapsed": false,
    "codeCollapsed": false,
    "resultHeight": 251
   },
   "outputs": [],
   "source": "-- output from the previous cell\nSELECT query_id, total_elapsed_time / 1000.0 AS query_duration_seconds\nFROM table(information_schema.query_history())\nWHERE start_time >= CURRENT_DATE - INTERVAL '30 days'\nORDER BY total_elapsed_time DESC\nLIMIT 5;",
   "execution_count": null
  },
  {
   "cell_type": "code",
   "id": "5402f84d-4561-49c2-918d-cc1fcd46f5e3",
   "metadata": {
    "language": "sql",
    "name": "cell18",
    "collapsed": false,
    "resultHeight": 510
   },
   "outputs": [],
   "source": "-- second example, query from the Snowflake sample database\nwith cte1 as (\n  select o_custkey, max(o_totalprice) as max_totalprice\n  from SNOWFLAKE_SAMPLE_DATA.TPCH_SF100.ORDERS\n  group by o_custkey\n),\ncte2 as (\n  select c_custkey\n  from SNOWFLAKE_SAMPLE_DATA.TPCH_SF100.CUSTOMER\n  where c_mktsegment = 'BUILDING' or c_mktsegment = 'FURNITURE'\n)\n  select ORD.o_custkey, ORD.o_orderkey\n  from SNOWFLAKE_SAMPLE_DATA.TPCH_SF100.ORDERS ORD\n  inner join cte1 on cte1.o_custkey = ORD.o_custkey and cte1.max_totalprice = ORD.o_totalprice\n  where ORD.o_custkey in (select c_custkey from cte2);",
   "execution_count": null
  },
  {
   "cell_type": "code",
   "id": "6a7b865a-fd4a-4cc4-9de0-a491cd56756c",
   "metadata": {
    "language": "sql",
    "name": "cell19",
    "collapsed": false,
    "resultHeight": 111
   },
   "outputs": [],
   "source": "-- second example, rewrite a query by the business\nSELECT SNOWFLAKE.CORTEX.COMPLETE('snowflake-arctic', \n  'Please rewrite the following Snowflake query as a single query without nested CTEs using the qualify keyword: \n  \nwith cte1 as (\n  select o_custkey, max(o_totalprice) as max_totalprice\n  from SNOWFLAKE_SAMPLE_DATA.TPCH_SF100.ORDERS\n  group by o_custkey\n),\ncte2 as (\n  select c_custkey\n  from SNOWFLAKE_SAMPLE_DATA.TPCH_SF100.CUSTOMER\n  where c_mktsegment = ''BUILDING'' or c_mktsegment = ''FURNITURE''\n)\n  select ORD.o_custkey, ORD.o_orderkey\n  from SNOWFLAKE_SAMPLE_DATA.TPCH_SF100.ORDERS ORD\n  inner join cte1 on cte1.o_custkey = ORD.o_custkey and cte1.max_totalprice = ORD.o_totalprice\n  where ORD.o_custkey in (select c_custkey from cte2)\n');",
   "execution_count": null
  },
  {
   "cell_type": "code",
   "id": "c6acd012-92ef-4dcb-b4ed-6ba028bb62ee",
   "metadata": {
    "language": "sql",
    "name": "cell20",
    "collapsed": false,
    "resultHeight": 510
   },
   "outputs": [],
   "source": "-- output from the LLM\nSELECT o_custkey, o_orderkey\nFROM SNOWFLAKE_SAMPLE_DATA.TPCH_SF100.ORDERS\nWHERE o_custkey IN (\n    SELECT c_custkey \n    FROM SNOWFLAKE_SAMPLE_DATA.TPCH_SF100.CUSTOMER \n    WHERE c_mktsegment IN ('BUILDING', 'FURNITURE')\n)\nQUALIFY o_totalprice = MAX(o_totalprice) OVER (PARTITION BY o_custkey);",
   "execution_count": null
  },
  {
   "cell_type": "markdown",
   "id": "04ac5682-e884-49e1-b645-59600361c87b",
   "metadata": {
    "name": "cell21",
    "collapsed": false,
    "resultHeight": 134
   },
   "source": "## How much does it cost?\n\n- To track credits used for AI Services including LLM Functions in your account, use the METERING_HISTORY view\n- To view the credit and token consumption for each LLM function call, use the CORTEX_FUNCTIONS_USAGE_HISTORY view\n"
  },
  {
   "cell_type": "code",
   "id": "feacfc73-dc51-426c-ad50-319063213756",
   "metadata": {
    "language": "sql",
    "name": "cell22",
    "collapsed": false,
    "resultHeight": 251
   },
   "outputs": [],
   "source": "SELECT *\nFROM SNOWFLAKE.ACCOUNT_USAGE.METERING_DAILY_HISTORY\nWHERE SERVICE_TYPE = 'AI_SERVICES';\n",
   "execution_count": null
  },
  {
   "cell_type": "code",
   "id": "2af613c4-fccf-413c-b351-1b58d95ff330",
   "metadata": {
    "language": "sql",
    "name": "cell23",
    "collapsed": false,
    "resultHeight": 438
   },
   "outputs": [],
   "source": "SELECT * \nFROM SNOWFLAKE.ACCOUNT_USAGE.CORTEX_FUNCTIONS_USAGE_HISTORY \nORDER BY START_TIME DESC;",
   "execution_count": null
  },
  {
   "cell_type": "markdown",
   "id": "459b880a-98fe-49cb-b34c-8b2b6edaa1a0",
   "metadata": {
    "name": "cell24",
    "collapsed": false,
    "resultHeight": 111
   },
   "source": "**Remember:**\n- Always\n- Track costs, since models have different costs"
  }
 ]
}