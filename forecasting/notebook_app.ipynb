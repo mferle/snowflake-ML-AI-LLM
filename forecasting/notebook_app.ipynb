{
 "metadata": {
  "kernelspec": {
   "display_name": "Streamlit Notebook",
   "name": "streamlit"
  }
 },
 "nbformat_minor": 5,
 "nbformat": 4,
 "cells": [
  {
   "cell_type": "markdown",
   "id": "3775908f-ca36-4846-8f38-5adca39217f2",
   "metadata": {
    "name": "cell1",
    "collapsed": false,
    "resultHeight": 202
   },
   "source": "# Get data from Snowflake Marketplace\n## Onsite Search — Product demand analysis on retail sites and marketplaces by Similarweb Ltd.\n\nDaily Onsite Search keywords on Amazon https://app.snowflake.com/marketplace/listing/GZT1ZA3NIS/similarweb-ltd-onsite-search-product-demand-analysis-on-retail-sites-and-marketplaces"
  },
  {
   "cell_type": "code",
   "id": "8d50cbf4-0c8d-4950-86cb-114990437ac9",
   "metadata": {
    "language": "sql",
    "name": "cell2",
    "collapsed": false,
    "resultHeight": 111
   },
   "source": "create or replace table ON_SITE_SEARCH as \nselect * from ONSITE_SEARCH__PRODUCT_DEMAND_ANALYSIS_ON_RETAIL_SITES_AND_MARKETPLACES.DATAFEEDS.ON_SITE_SEARCH;",
   "execution_count": null,
   "outputs": []
  },
  {
   "cell_type": "markdown",
   "id": "f37f9e7e-5b4b-47da-9d4b-06e1b41e4657",
   "metadata": {
    "name": "cell3",
    "collapsed": false,
    "resultHeight": 115
   },
   "source": "# Exploratory data analysis\nKeyword search distribution by day - all keywords"
  },
  {
   "cell_type": "code",
   "id": "e4fe8fc9-be98-490e-bfa7-9556fbb38ad9",
   "metadata": {
    "language": "sql",
    "name": "cell4",
    "collapsed": false,
    "resultHeight": 438
   },
   "outputs": [],
   "source": "-- all keyword searches by day\nselect date, count(*) as cnt \nfrom ON_SITE_SEARCH \ngroup by all;",
   "execution_count": null
  },
  {
   "cell_type": "code",
   "id": "c695373e-ac74-4b62-a1f1-08206cbd5c81",
   "metadata": {
    "language": "python",
    "name": "cell5",
    "collapsed": false,
    "resultHeight": 419
   },
   "source": "# Import python and streamlit packages\nimport streamlit as st\nimport pandas as pd\nfrom snowflake.snowpark.context import get_active_session\n\nsession = get_active_session()\n\n# Turn cell4 into a pandas data frame\nforecast_all_keywords_df = cell4.to_pandas()\n\n# Chart the data\nst.subheader(\"Keyword search by day - all keywords\")\nst.line_chart(forecast_all_keywords_df, x='DATE', y='CNT')\n",
   "execution_count": null,
   "outputs": []
  },
  {
   "cell_type": "code",
   "id": "25affa7a-3bd8-4500-b9fa-0ed754e4bdba",
   "metadata": {
    "language": "sql",
    "name": "cell6",
    "collapsed": false,
    "resultHeight": 438
   },
   "outputs": [],
   "source": "-- keyword searches for backpack by day\nselect date, sum(calibrated_visits) as cnt\nfrom ON_SITE_SEARCH\nwhere oss_keyword ilike '%backpack%'\ngroup by all;",
   "execution_count": null
  },
  {
   "cell_type": "code",
   "id": "75b0c224-7203-4117-8865-9e0b06a51309",
   "metadata": {
    "language": "python",
    "name": "cell7",
    "collapsed": false,
    "resultHeight": 419
   },
   "outputs": [],
   "source": "# Turn cell6 into a pandas data frame\nforecast_all_keywords_df = cell6.to_pandas()\n\n# Chart the data\nst.subheader(\"Keyword search by day - all keywords\")\nst.line_chart(forecast_all_keywords_df, x='DATE', y='CNT')\n",
   "execution_count": null
  },
  {
   "cell_type": "code",
   "id": "660f2c8d-dfee-4d65-903f-1f00cbceb1da",
   "metadata": {
    "language": "sql",
    "name": "cell8",
    "collapsed": false,
    "resultHeight": 111
   },
   "outputs": [],
   "source": "-- create a view that represents historical data for backpack keyword search\ncreate or replace view backpack_keyword_data as\nselect \n  date::TIMESTAMP_NTZ AS search_date,\n  sum(calibrated_visits) AS search_cnt\nfrom ON_SITE_SEARCH\nwhere oss_keyword ilike '%backpack%'\ngroup by all;",
   "execution_count": null
  },
  {
   "cell_type": "markdown",
   "id": "71504067-85b2-4768-9a37-eba2b6ab4e62",
   "metadata": {
    "name": "cell9",
    "collapsed": false,
    "resultHeight": 60
   },
   "source": "## Train the Forecast model"
  },
  {
   "cell_type": "code",
   "id": "b968b969-92ab-4764-b348-7d86b4a8ac94",
   "metadata": {
    "language": "sql",
    "name": "cell10",
    "collapsed": false,
    "resultHeight": 87
   },
   "outputs": [],
   "source": "-- train the model on historical data\ncreate or replace SNOWFLAKE.ML.FORECAST backpack_model(\n  INPUT_DATA => SYSTEM$REFERENCE('VIEW', 'backpack_keyword_data'),\n  TIMESTAMP_COLNAME => 'search_date',\n  TARGET_COLNAME => 'search_cnt'\n);",
   "execution_count": null
  },
  {
   "cell_type": "markdown",
   "id": "7ba84a8e-8f05-42cf-b81e-c9efeec7191f",
   "metadata": {
    "name": "cell11",
    "collapsed": false,
    "resultHeight": 102
   },
   "source": "## Predict demand in the next 90 days\nCall the FORECAST method of the trained model and save the results to a table"
  },
  {
   "cell_type": "code",
   "id": "609a02c9-4775-496d-af98-d43fff8eb221",
   "metadata": {
    "language": "sql",
    "name": "cell12",
    "collapsed": false,
    "resultHeight": 87
   },
   "outputs": [],
   "source": "-- call the model to predict future values\ncreate or replace table backpack_model_forecast as\nselect * from table(backpack_model!FORECAST(FORECASTING_PERIODS => 90));",
   "execution_count": null
  },
  {
   "cell_type": "code",
   "id": "7391ed3e-346a-4bf4-9237-18490340d65e",
   "metadata": {
    "language": "sql",
    "name": "cell13",
    "collapsed": false,
    "resultHeight": 438
   },
   "outputs": [],
   "source": "-- combine historical and predicted values in a single query\nselect search_date, search_cnt, null as forecast \nfrom backpack_keyword_data\nunion all\nselect ts as search_date, null as search_cnt, forecast \nfrom backpack_model_forecast;",
   "execution_count": null
  },
  {
   "cell_type": "code",
   "id": "e8940777-a814-4ade-a7ad-2481d2b5edee",
   "metadata": {
    "language": "python",
    "name": "cell14",
    "collapsed": false,
    "resultHeight": 419
   },
   "outputs": [],
   "source": "# Turn cell13 into a pandas data frame\nforecast_all_keywords_df = cell13.to_pandas()\n\n# Chart the data\nst.subheader(\"Keyword search by day - all keywords\")\nst.line_chart(forecast_all_keywords_df, x='SEARCH_DATE', y=['SEARCH_CNT', 'FORECAST'])\n",
   "execution_count": null
  },
  {
   "cell_type": "markdown",
   "id": "1d11355d-1b1f-4f54-b7d0-aea2a6417339",
   "metadata": {
    "name": "cell15",
    "collapsed": false,
    "resultHeight": 266
   },
   "source": "# Improve the model with features\n## Features or exogenous variables\n- Holidays\n- Weather\n- Special events\n- Marketing events"
  },
  {
   "cell_type": "code",
   "id": "f41409e1-79ab-44e9-b191-996d49b26d06",
   "metadata": {
    "language": "sql",
    "name": "cell16",
    "collapsed": false,
    "resultHeight": 111
   },
   "outputs": [],
   "source": "-- create a table that represents historical data for backpack keyword search\n-- adding features to indicate Amazon Prime day and summr holidays\ncreate or replace view backpack_data_with_features as\nselect \n  date::TIMESTAMP_NTZ AS search_date,\n  sum(calibrated_visits) AS search_cnt,\n  case \n    when date = '2021-06-21' then 1 \n    else 0 \n  end as amazon_prime_day_flg,\n  case \n    when date >= '2021-07-11' and date <= '2021-09-06' then 1 \n    else 0 \n  end as summer_holiday_flg\nfrom ON_SITE_SEARCH\nwhere oss_keyword ilike '%backpack%'\ngroup by search_date, amazon_prime_day_flg, summer_holiday_flg;",
   "execution_count": null
  },
  {
   "cell_type": "markdown",
   "id": "5d5e3326-e384-4156-b978-28afefadd946",
   "metadata": {
    "name": "cell17",
    "collapsed": false,
    "resultHeight": 60
   },
   "source": "## Train the FORECAST model with features"
  },
  {
   "cell_type": "code",
   "id": "d36e2d21-cdf5-423b-b9cb-4858d66d3b53",
   "metadata": {
    "language": "sql",
    "name": "cell18",
    "resultHeight": 111
   },
   "outputs": [],
   "source": "-- train the model on historical data\ncreate or replace SNOWFLAKE.ML.FORECAST backpack_model_with_features(\n  INPUT_DATA => table(backpack_data_with_features),\n  TIMESTAMP_COLNAME => 'search_date',\n  TARGET_COLNAME => 'search_cnt'\n);",
   "execution_count": null
  },
  {
   "cell_type": "code",
   "id": "94d5b178-98c1-4d60-911f-d9523eff8377",
   "metadata": {
    "language": "sql",
    "name": "cell19",
    "collapsed": false,
    "resultHeight": 111
   },
   "outputs": [],
   "source": "-- create a view with future features for the forecasting period\ncreate or replace view future_features as \nselect \n  dateadd(\n    'day', \n    row_number() over (partition by null order by null), \n    '2022-06-30'\n  ) as search_date,\n  case \n    when search_date >= '2022-07-12' and search_date <= '2022-07-13' then 1 \n    else 0 \n  end as amazon_prime_day_flg,\n  case \n    when search_date >= '2022-07-11' and search_date <= '2022-09-06' then 1 \n    else 0 \n  end as summer_holiday_flg\nfrom table (generator(rowcount => 90));",
   "execution_count": null
  },
  {
   "cell_type": "markdown",
   "id": "ee79169f-835b-47c7-9596-8275b878efc8",
   "metadata": {
    "name": "cell20",
    "collapsed": false,
    "resultHeight": 60
   },
   "source": "## Predict demand with features"
  },
  {
   "cell_type": "code",
   "id": "30ec467f-2093-49a8-a151-85a8fed82cc9",
   "metadata": {
    "language": "sql",
    "name": "cell21",
    "collapsed": false,
    "resultHeight": 111
   },
   "outputs": [],
   "source": "-- call the model to predict future values\ncreate or replace table backpack_model_with_features as\nselect * from table(backpack_model_with_features!FORECAST(\n    INPUT_DATA => TABLE(future_features),\n    TIMESTAMP_COLNAME => 'search_date'));",
   "execution_count": null
  },
  {
   "cell_type": "code",
   "id": "1a4d5cc9-7a07-4e7e-9d43-1f5fbf0ef456",
   "metadata": {
    "language": "sql",
    "name": "cell22",
    "collapsed": false,
    "resultHeight": 438
   },
   "outputs": [],
   "source": "-- combine historical and predicted values in a single query\nselect search_date, search_cnt, null as forecast \nfrom backpack_data_with_features\nunion all\nselect ts as search_date, null as search_cnt, forecast \nfrom backpack_model_with_features;",
   "execution_count": null
  },
  {
   "cell_type": "code",
   "id": "38d021ae-2f12-4d0b-a283-06a14721092e",
   "metadata": {
    "language": "python",
    "name": "cell23",
    "collapsed": false,
    "resultHeight": 419
   },
   "outputs": [],
   "source": "# Turn cell22 into a pandas data frame\nforecast_all_keywords_df = cell22.to_pandas()\n\n# Chart the data\nst.subheader(\"Keyword search by day - all keywords\")\nst.line_chart(forecast_all_keywords_df, x='SEARCH_DATE', y=['SEARCH_CNT', 'FORECAST'])\n",
   "execution_count": null
  },
  {
   "cell_type": "code",
   "id": "5b4ef829-ebdd-423e-b73e-0edb4ca56a31",
   "metadata": {
    "language": "sql",
    "name": "cell24",
    "collapsed": false,
    "resultHeight": 438
   },
   "outputs": [],
   "source": "select WO.ts, WO.forecast as forecast_without_features, WH.forecast as forecast_with_features\nfrom backpack_model_forecast WO\ninner join backpack_model_with_features WH\non WH.ts = WO.TS;",
   "execution_count": null
  },
  {
   "cell_type": "code",
   "id": "7772c8d6-959e-4b8d-845b-7eeaa493e0e3",
   "metadata": {
    "language": "python",
    "name": "cell25",
    "collapsed": false,
    "resultHeight": 419
   },
   "outputs": [],
   "source": "# Turn cell24 into a pandas data frame\nforecast_all_keywords_df = cell24.to_pandas()\n\n# Chart the data\nst.subheader(\"Compare forecasts without and with features\")\nst.line_chart(forecast_all_keywords_df, x='TS', y=['FORECAST_WITHOUT_FEATURES', 'FORECAST_WITH_FEATURES'])\n",
   "execution_count": null
  }
 ]
}
